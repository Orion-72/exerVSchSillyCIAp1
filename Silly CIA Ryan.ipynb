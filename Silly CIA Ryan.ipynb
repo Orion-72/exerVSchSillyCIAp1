{
 "cells": [
  {
   "cell_type": "markdown",
   "id": "285f612e",
   "metadata": {},
   "source": [
    "<!-- Format the content below -->\n",
    "<!-- Adapted from The Onion -->\n",
    "\n",
    "CIA Realizes It's Been Using Black Highlighters All These Years\n",
    "\n",
    "Director Demands Investigation \n",
    "\n",
    "[ Main image: https://i.kinja-img.com/gawker-media/image/upload/s--RNd7CQyJ--/c_fit,fl_progressive,q_80,w_470/zuzaejhbyctibbyvoz8h.jpg ]\n",
    "\n",
    "LANGLEY, VA—A report released Tuesday by the CIA's Office of the Inspector General revealed that the CIA has mistakenly obscured hundreds of thousands of pages of critical intelligence information with black highlighters.\n",
    "\n",
    "According to the report, sections of the documents— \"almost invariably the most crucial passages\"—are marred by an indelible black ink that renders the lines impossible to read, due to a top-secret highlighting policy that began at the agency's inception in 1947.\n",
    "\n",
    "CIA Director **Porter Goss** lamented the fact that the public will probably never know the particulars of several historic events, such as: \n",
    "\n",
    "* the Cold War\n",
    "* the civil-rights movement \n",
    "* the growth of the international drug trade\n",
    "\n",
    "You might also like\n",
    "\n",
    "CIA To Shift Focus To Greeting Cards [link to: http://www.theonion.com/articles/cia-to-shift-focus-to-greeting-cards,4312/ ]\n",
    "\n",
    "========\n",
    "\n",
    "\"NOTE: \n",
    "Be sure to turn the bulleted historic events into a list. \n",
    "Bold Porter Goss's name on first reference\n",
    "Turn this note into a comment\""
   ]
  },
  {
   "cell_type": "code",
   "execution_count": null,
   "id": "cbc8b08e",
   "metadata": {},
   "outputs": [],
   "source": []
  }
 ],
 "metadata": {
  "kernelspec": {
   "display_name": "Python 3 (ipykernel)",
   "language": "python",
   "name": "python3"
  },
  "language_info": {
   "codemirror_mode": {
    "name": "ipython",
    "version": 3
   },
   "file_extension": ".py",
   "mimetype": "text/x-python",
   "name": "python",
   "nbconvert_exporter": "python",
   "pygments_lexer": "ipython3",
   "version": "3.9.12"
  }
 },
 "nbformat": 4,
 "nbformat_minor": 5
}
